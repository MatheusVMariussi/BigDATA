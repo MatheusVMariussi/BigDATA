{
  "nbformat": 4,
  "nbformat_minor": 0,
  "metadata": {
    "colab": {
      "provenance": []
    },
    "kernelspec": {
      "name": "python3",
      "display_name": "Python 3"
    },
    "language_info": {
      "name": "python"
    }
  },
  "cells": [
    {
      "cell_type": "code",
      "execution_count": 1,
      "metadata": {
        "colab": {
          "base_uri": "https://localhost:8080/"
        },
        "id": "bnYLoLSqD4Bs",
        "outputId": "019e3ffc-eaf5-4ca4-b735-e3d63280b295"
      },
      "outputs": [
        {
          "output_type": "stream",
          "name": "stdout",
          "text": [
            "Collecting mrjob\n",
            "  Downloading mrjob-0.7.4-py2.py3-none-any.whl.metadata (7.3 kB)\n",
            "Requirement already satisfied: PyYAML>=3.10 in /usr/local/lib/python3.12/dist-packages (from mrjob) (6.0.2)\n",
            "Downloading mrjob-0.7.4-py2.py3-none-any.whl (439 kB)\n",
            "\u001b[?25l   \u001b[90m━━━━━━━━━━━━━━━━━━━━━━━━━━━━━━━━━━━━━━━━\u001b[0m \u001b[32m0.0/439.6 kB\u001b[0m \u001b[31m?\u001b[0m eta \u001b[36m-:--:--\u001b[0m\r\u001b[2K   \u001b[91m━━━━━━━━━━━━━━━━━━━━━━━━━━━\u001b[0m\u001b[91m╸\u001b[0m\u001b[90m━━━━━━━━━━━━\u001b[0m \u001b[32m307.2/439.6 kB\u001b[0m \u001b[31m9.2 MB/s\u001b[0m eta \u001b[36m0:00:01\u001b[0m\r\u001b[2K   \u001b[90m━━━━━━━━━━━━━━━━━━━━━━━━━━━━━━━━━━━━━━━━\u001b[0m \u001b[32m439.6/439.6 kB\u001b[0m \u001b[31m8.7 MB/s\u001b[0m eta \u001b[36m0:00:00\u001b[0m\n",
            "\u001b[?25hInstalling collected packages: mrjob\n",
            "Successfully installed mrjob-0.7.4\n"
          ]
        }
      ],
      "source": [
        "!pip install mrjob"
      ]
    },
    {
      "cell_type": "code",
      "source": [
        "!head -5 forestfireinput.csv"
      ],
      "metadata": {
        "colab": {
          "base_uri": "https://localhost:8080/"
        },
        "id": "cNjwmGnTD7jW",
        "outputId": "b286cee1-94f2-40a1-c7b2-4eac17b1bdf6"
      },
      "execution_count": 2,
      "outputs": [
        {
          "output_type": "stream",
          "name": "stdout",
          "text": [
            "7,5,mar,fri,86.2,26.2,94.3,5.1,8.2,51,6.7,0,0\n",
            "7,4,oct,tue,90.6,35.4,669.1,6.7,18,33,0.9,0,0\n",
            "7,4,oct,sat,90.6,43.7,686.9,6.7,14.6,33,1.3,0,0\n",
            "8,6,mar,fri,91.7,33.3,77.5,9,8.3,97,4,0.2,0\n",
            "8,6,mar,sun,89.3,51.3,102.2,9.6,11.4,99,1.8,0,0\n"
          ]
        }
      ]
    },
    {
      "cell_type": "code",
      "source": [
        "%%file forestfireavg.py\n",
        "\n",
        "from mrjob.job import MRJob\n",
        "\n",
        "class ForestFireAvarageTemp(MRJob):\n",
        "  def mapper(self, _, value):\n",
        "    fields = value.split(\",\")\n",
        "    if len(fields) == 13:\n",
        "      try:\n",
        "        temperature = float(fields[8])\n",
        "        yield \"Temp\", [temperature, 1] #chave comum e valor composto (num,1)\n",
        "      except ValueError:\n",
        "        pass\n",
        "\n",
        "  def reducer(self, key, value):\n",
        "    sum_values = 0\n",
        "    count = 0\n",
        "    for v in value:\n",
        "      sum_values += v[0]\n",
        "      count += v[1]\n",
        "    avg = sum_values / count\n",
        "    yield \"Average\", avg\n",
        "\n",
        "if __name__ == '__main__':\n",
        "  ForestFireAvarageTemp.run()"
      ],
      "metadata": {
        "colab": {
          "base_uri": "https://localhost:8080/"
        },
        "id": "RNBUSO_2EIRE",
        "outputId": "14f729c3-a8ce-45e4-8e49-140a7587afe5"
      },
      "execution_count": 12,
      "outputs": [
        {
          "output_type": "stream",
          "name": "stdout",
          "text": [
            "Overwriting forestfireavg.py\n"
          ]
        }
      ]
    },
    {
      "cell_type": "code",
      "source": [
        "!rm -rf output\n",
        "!python forestfireavg.py forestfireinput.csv --output-dir=output"
      ],
      "metadata": {
        "colab": {
          "base_uri": "https://localhost:8080/"
        },
        "id": "KUGcQJ80Hl34",
        "outputId": "4005a93d-9b1f-40da-86ac-f47a8c03b41a"
      },
      "execution_count": 13,
      "outputs": [
        {
          "output_type": "stream",
          "name": "stdout",
          "text": [
            "No configs found; falling back on auto-configuration\n",
            "No configs specified for inline runner\n",
            "Running step 1 of 1...\n",
            "Creating temp directory /tmp/forestfireavg.root.20250905.140135.523413\n",
            "job output is in output\n",
            "Removing temp directory /tmp/forestfireavg.root.20250905.140135.523413...\n"
          ]
        }
      ]
    },
    {
      "cell_type": "markdown",
      "source": [
        "#Média total e média por mês"
      ],
      "metadata": {
        "id": "GVsICKcGLOoW"
      }
    },
    {
      "cell_type": "code",
      "source": [
        "%%file forestfireavg_month.py\n",
        "\n",
        "from mrjob.job import MRJob\n",
        "\n",
        "class ForestFireAvarageTempMonth(MRJob):\n",
        "    def mapper(self, _, value):\n",
        "        fields = value.split(\",\")\n",
        "        if len(fields) == 13:\n",
        "            try:\n",
        "                temperature = float(fields[8])\n",
        "                month = fields[2]\n",
        "                yield \"AverageAll\", (temperature, 1) # Key for overall average\n",
        "                yield f\"{month}\", (temperature, 1) # Key for monthly average\n",
        "            except ValueError:\n",
        "                pass\n",
        "\n",
        "    def reducer(self, key, values):\n",
        "        sum_values = 0\n",
        "        count = 0\n",
        "        for value in values:\n",
        "            sum_values += value[0]\n",
        "            count += value[1]\n",
        "        if count > 0:\n",
        "            avg = sum_values / count\n",
        "            yield key, avg\n",
        "\n",
        "if __name__ == '__main__':\n",
        "    ForestFireAvarageTempMonth.run()"
      ],
      "metadata": {
        "colab": {
          "base_uri": "https://localhost:8080/"
        },
        "id": "hbcUW1-XHucw",
        "outputId": "d12dc3fa-4c21-4baa-b60c-56ba184345e9"
      },
      "execution_count": 18,
      "outputs": [
        {
          "output_type": "stream",
          "name": "stdout",
          "text": [
            "Overwriting forestfireavg_month.py\n"
          ]
        }
      ]
    },
    {
      "cell_type": "code",
      "source": [
        "!rm -rf output2\n",
        "!python forestfireavg_month.py forestfireinput.csv --output-dir=output2\n",
        "\n",
        "!cat output2/part-* > output2/Averages"
      ],
      "metadata": {
        "colab": {
          "base_uri": "https://localhost:8080/"
        },
        "id": "UY_rGMVaLpnf",
        "outputId": "eabe7e27-12df-453d-d072-0a783b58c1a1"
      },
      "execution_count": 19,
      "outputs": [
        {
          "output_type": "stream",
          "name": "stdout",
          "text": [
            "No configs found; falling back on auto-configuration\n",
            "No configs specified for inline runner\n",
            "Running step 1 of 1...\n",
            "Creating temp directory /tmp/forestfireavg_month.root.20250905.140535.769778\n",
            "job output is in output2\n",
            "Removing temp directory /tmp/forestfireavg_month.root.20250905.140535.769778...\n"
          ]
        }
      ]
    },
    {
      "cell_type": "markdown",
      "source": [
        "#Media by mes e dia da semana, quando vento > 2km/h\n",
        "\n",
        "mes = [2]\n",
        "dia = [3]\n",
        "temperatura = [8]\n",
        "vento = [10]\n",
        "\n",
        "\n",
        "---\n",
        "\n"
      ],
      "metadata": {
        "id": "IhAYFHTWNZlE"
      }
    },
    {
      "cell_type": "code",
      "source": [
        "%%file forestfireavg_complex.py\n",
        "\n",
        "from mrjob.job import MRJob\n",
        "\n",
        "class ForestFireAvarageTempComplex(MRJob):\n",
        "    def mapper(self, _, value):\n",
        "        fields = value.split(\",\")\n",
        "        if len(fields) == 13:\n",
        "            try:\n",
        "                temperature = float(fields[8])\n",
        "                month = fields[2]\n",
        "                day = fields[3]\n",
        "                wind = float(fields[10])\n",
        "                if wind > 2:\n",
        "                  yield f\"{month}, {day}\", (temperature, 1)\n",
        "            except ValueError:\n",
        "                pass\n",
        "\n",
        "    def reducer(self, key, values):\n",
        "        sum_values = 0\n",
        "        count = 0\n",
        "        for value in values:\n",
        "            sum_values += value[0]\n",
        "            count += value[1]\n",
        "        if count > 0:\n",
        "            avg = sum_values / count\n",
        "            yield key, avg\n",
        "\n",
        "if __name__ == '__main__':\n",
        "    ForestFireAvarageTempComplex.run()"
      ],
      "metadata": {
        "colab": {
          "base_uri": "https://localhost:8080/"
        },
        "id": "F7_rG1fYNrQk",
        "outputId": "0ff6088d-1b97-4402-8fcd-ac2e0de56094"
      },
      "execution_count": 22,
      "outputs": [
        {
          "output_type": "stream",
          "name": "stdout",
          "text": [
            "Overwriting forestfireavg_complex.py\n"
          ]
        }
      ]
    },
    {
      "cell_type": "code",
      "source": [
        "!rm -rf output3\n",
        "!python forestfireavg_complex.py forestfireinput.csv --output-dir=output3\n",
        "\n",
        "!cat output3/part-* > output3/Final"
      ],
      "metadata": {
        "colab": {
          "base_uri": "https://localhost:8080/"
        },
        "id": "-ckm4ZMoNu6e",
        "outputId": "fa0ed003-67d9-45e4-ba6b-9a9b7653bde3"
      },
      "execution_count": 21,
      "outputs": [
        {
          "output_type": "stream",
          "name": "stdout",
          "text": [
            "No configs found; falling back on auto-configuration\n",
            "No configs specified for inline runner\n",
            "Running step 1 of 1...\n",
            "Creating temp directory /tmp/forestfireavg_complex.root.20250905.141251.807494\n",
            "job output is in output3\n",
            "Removing temp directory /tmp/forestfireavg_complex.root.20250905.141251.807494...\n"
          ]
        }
      ]
    },
    {
      "cell_type": "markdown",
      "source": [
        "#Media por nivel de vento e nivel de umidade\n",
        "\n",
        "temperatura = [8]\n",
        "vento = [10]\n",
        "umidade = [9]\n",
        "\n",
        "\n",
        "---\n",
        "\n"
      ],
      "metadata": {
        "id": "YcUM0HzZPz1x"
      }
    },
    {
      "cell_type": "code",
      "source": [
        "%%file forestfireavg_bylevels.py\n",
        "\n",
        "from mrjob.job import MRJob\n",
        "\n",
        "class ForestFireAvarageByLevels(MRJob):\n",
        "    def mapper(self, _, value):\n",
        "        fields = value.split(\",\")\n",
        "        if len(fields) == 13:\n",
        "            try:\n",
        "                temperature = float(fields[8])\n",
        "                humidity = float(fields[9])\n",
        "                wind = float(fields[10])\n",
        "                if wind < 5:\n",
        "                  if humidity < 30:\n",
        "                    yield \"low wind, low humidity\", (temperature, 1)\n",
        "                  elif humidity >= 30 and humidity <= 60:\n",
        "                    yield \"low wind, medium humidity\", (temperature, 1)\n",
        "                  else:\n",
        "                    yield \"low wind, high humidity\", (temperature, 1)\n",
        "                elif wind >= 5 and wind <= 10:\n",
        "                  if humidity < 30:\n",
        "                    yield \"medium wind, low humidity\", (temperature, 1)\n",
        "                  elif humidity >= 30 and humidity <= 60:\n",
        "                    yield \"medium wind, medium humidity\", (temperature, 1)\n",
        "                  else:\n",
        "                    yield \"medium wind, high humidity\", (temperature, 1)\n",
        "                else:\n",
        "                  if humidity < 30:\n",
        "                    yield \"high wind, low humidity\", (temperature, 1)\n",
        "                  elif humidity >= 30 and humidity <= 60:\n",
        "                    yield \"high wind, medium humidity\", (temperature, 1)\n",
        "                  else:\n",
        "                    yield \"high wind, high humidity\", (temperature, 1)\n",
        "            except ValueError:\n",
        "                pass\n",
        "\n",
        "    def reducer(self, key, values):\n",
        "        sum_values = 0\n",
        "        count = 0\n",
        "        for value in values:\n",
        "            sum_values += value[0]\n",
        "            count += value[1]\n",
        "        if count > 0:\n",
        "            avg = sum_values / count\n",
        "            yield key, avg\n",
        "\n",
        "if __name__ == '__main__':\n",
        "    ForestFireAvarageByLevels.run()"
      ],
      "metadata": {
        "colab": {
          "base_uri": "https://localhost:8080/"
        },
        "id": "tVRRPZ3CRkn6",
        "outputId": "ba7eea8c-faf1-42b5-c10e-cb35b8a12628"
      },
      "execution_count": 26,
      "outputs": [
        {
          "output_type": "stream",
          "name": "stdout",
          "text": [
            "Overwriting forestfireavg_bylevels.py\n"
          ]
        }
      ]
    },
    {
      "cell_type": "code",
      "source": [
        "!rm -rf output4\n",
        "!python forestfireavg_bylevels.py forestfireinput.csv --output-dir=output4\n",
        "\n",
        "!cat output4/part-* > output4/Final"
      ],
      "metadata": {
        "colab": {
          "base_uri": "https://localhost:8080/"
        },
        "id": "UJpHLG_XRnmR",
        "outputId": "c03a7b7c-4c66-4a9e-ecc7-990baf5130e8"
      },
      "execution_count": 28,
      "outputs": [
        {
          "output_type": "stream",
          "name": "stdout",
          "text": [
            "No configs found; falling back on auto-configuration\n",
            "No configs specified for inline runner\n",
            "Running step 1 of 1...\n",
            "Creating temp directory /tmp/forestfireavg_bylevels.root.20250905.143601.218403\n",
            "job output is in output4\n",
            "Removing temp directory /tmp/forestfireavg_bylevels.root.20250905.143601.218403...\n"
          ]
        }
      ]
    },
    {
      "cell_type": "code",
      "source": [
        "%%file forestfireavg_bylevelsV2.py\n",
        "\n",
        "from mrjob.job import MRJob\n",
        "\n",
        "class ForestFireAvarageByLevelsV2(MRJob):\n",
        "    def mapper(self, _, value):\n",
        "        fields = value.split(\",\")\n",
        "        if len(fields) == 13:\n",
        "          try:\n",
        "            temperature = float(fields[8])\n",
        "            humidity = float(fields[9])\n",
        "            wind = float(fields[10])\n",
        "\n",
        "            if wind < 5:\n",
        "              wind_level = \"low wind\"\n",
        "            elif wind >= 5 and wind <= 10:\n",
        "              wind_level = \"medium wind\"\n",
        "            else:\n",
        "              wind_level = \"high wind\"\n",
        "\n",
        "            if humidity < 30:\n",
        "              humidity_level = \"low humidity\"\n",
        "            elif humidity >= 30 and humidity <= 60:\n",
        "              humidity_level = \"medium humidity\"\n",
        "            else:\n",
        "              humidity_level = \"high humidity\"\n",
        "\n",
        "            yield f\"{wind_level}, {humidity_level}\", (temperature, 1)\n",
        "\n",
        "          except ValueError:\n",
        "              pass\n",
        "\n",
        "    def reducer(self, key, values):\n",
        "        sum_values = 0\n",
        "        count = 0\n",
        "        for value in values:\n",
        "            sum_values += value[0]\n",
        "            count += value[1]\n",
        "        if count > 0:\n",
        "            avg = sum_values / count\n",
        "            yield key, avg\n",
        "\n",
        "if __name__ == '__main__':\n",
        "    ForestFireAvarageByLevelsV2.run()"
      ],
      "metadata": {
        "colab": {
          "base_uri": "https://localhost:8080/"
        },
        "id": "tZCAhVf_W35D",
        "outputId": "1e5b3fc3-feb1-487c-cacc-65fd151867ba"
      },
      "execution_count": 29,
      "outputs": [
        {
          "output_type": "stream",
          "name": "stdout",
          "text": [
            "Writing forestfireavg_bylevelsV2.py\n"
          ]
        }
      ]
    },
    {
      "cell_type": "code",
      "source": [
        "!rm -rf output5\n",
        "!python forestfireavg_bylevelsV2.py forestfireinput.csv --output-dir=output5\n",
        "\n",
        "!cat output5/part-* > output5/Final"
      ],
      "metadata": {
        "colab": {
          "base_uri": "https://localhost:8080/"
        },
        "id": "xMquBGnFXkY_",
        "outputId": "24f12787-38d1-4e1f-aa83-8d83f6d608c0"
      },
      "execution_count": 30,
      "outputs": [
        {
          "output_type": "stream",
          "name": "stdout",
          "text": [
            "No configs found; falling back on auto-configuration\n",
            "No configs specified for inline runner\n",
            "Running step 1 of 1...\n",
            "Creating temp directory /tmp/forestfireavg_bylevelsV2.root.20250905.145353.782401\n",
            "job output is in output5\n",
            "Removing temp directory /tmp/forestfireavg_bylevelsV2.root.20250905.145353.782401...\n"
          ]
        }
      ]
    }
  ]
}